{
 "cells": [
  {
   "cell_type": "markdown",
   "metadata": {},
   "source": [
    "# PyUG Meeting Notes from July 25, 2017"
   ]
  },
  {
   "cell_type": "markdown",
   "metadata": {},
   "source": [
    "## Comments, Issues, Suggestions\n",
    "\n",
    "1. I appologize for any scheduling confusion\n",
    "1. PyCon - Seattle : Colin Dietrich\n",
    "1. SciPy - Austin : Chris Barker\n",
    "1. Pycascades will be in Vancouver, BC in January\n",
    "1. Contact Karl Smith if you want to be a Jupyter Hub tester - otherwise, it is not to complicated if you are familiar with Python, to get a local version running on your machine via Conda\n",
    "\n",
    "**Hey! You can use TeX in Jupyter!**\n",
    "$E=MC^2$"
   ]
  },
  {
   "cell_type": "markdown",
   "metadata": {},
   "source": [
    "## Resources\n",
    "\n",
    "1. [PyAOS](http://pyaos.johnny-lin.com/)\n",
    "    * American Meteorological Society call for papers for Python modelling (https://annual.ametsoc.org/2018/index.cfm/programs/conferences-and-symposia/eighth-symposium-on-advances-in-modeling-and-analysis-using-python/)    \n",
    "1.  Numerous resources have been provided by Chris Barker of NOAA-ORR  \n",
    "    * https://github.com/UWPCE-PythonCert\n",
    "    * In particular, you may be interested in the Intro class: http://uwpce-pythoncert.github.io/IntroToPython/\n",
    "and setup info here: http://uwpce-pythoncert.github.io/PythonResources/"
   ]
  },
  {
   "cell_type": "markdown",
   "metadata": {},
   "source": [
    "## Next Meeting\n",
    "\n",
    "1. Likely to be in early September as an ***Informal lunch*** at 11:30\n",
    "1. Bring an example ipynb - we can dive into more functionality then today's intro\n",
    "1. Karl (if available) or any other person who is familiar can share PyFerret+Jupyter \n",
    "1. Ideas for future speakers? (Jake from UW , Phillipe - conda-forge)"
   ]
  },
  {
   "cell_type": "markdown",
   "metadata": {},
   "source": [
    "## Welcome To Jupyter Notebooks"
   ]
  },
  {
   "cell_type": "code",
   "execution_count": 1,
   "metadata": {
    "collapsed": true
   },
   "outputs": [],
   "source": [
    "import pandas as pd"
   ]
  },
  {
   "cell_type": "code",
   "execution_count": 2,
   "metadata": {},
   "outputs": [],
   "source": [
    "#inline magic \n",
    "%matplotlib inline "
   ]
  },
  {
   "cell_type": "markdown",
   "metadata": {},
   "source": [
    "https://www.atmos.washington.edu/cgi-bin/latest_uw.cgi\n",
    "\n",
    "(I did a fair amount of cleaning to the dataset to get the one linked to below)"
   ]
  },
  {
   "cell_type": "code",
   "execution_count": 3,
   "metadata": {},
   "outputs": [
    {
     "name": "stdout",
     "output_type": "stream",
     "text": [
      "git version 1.8.3.1\r\n"
     ]
    }
   ],
   "source": [
    "!git --version #escaping out to commandline calls"
   ]
  },
  {
   "cell_type": "code",
   "execution_count": 4,
   "metadata": {},
   "outputs": [],
   "source": [
    "data = pd.read_csv('../data/SeattleWx_20170725.csv',parse_dates={'datetime':['Day','Time']},index_col='datetime')"
   ]
  },
  {
   "cell_type": "markdown",
   "metadata": {},
   "source": [
    "**Notice the parse_dates options... this sets up the data to use the dates as the index instead of a sequential number (aka row number) thus allowing us to do refactoring of the data using the dates and times**"
   ]
  },
  {
   "cell_type": "code",
   "execution_count": 5,
   "metadata": {},
   "outputs": [
    {
     "name": "stdout",
     "output_type": "stream",
     "text": [
      "<class 'pandas.core.frame.DataFrame'>\n",
      "DatetimeIndex: 1072 entries, 2017-07-25 17:51:40 to 2017-07-25 00:00:40\n",
      "Data columns (total 8 columns):\n",
      "RHum(%)                 1072 non-null int64\n",
      "Temp(F)                 1072 non-null int64\n",
      "WindDirect              1072 non-null int64\n",
      "WindSpeed(knot)         1072 non-null int64\n",
      "WindGust(knot)          1072 non-null int64\n",
      "Rain(inch)              1072 non-null float64\n",
      "Radiation(Watts/m^2)    1072 non-null float64\n",
      "Pres(mbar)              1072 non-null float64\n",
      "dtypes: float64(3), int64(5)\n",
      "memory usage: 75.4 KB\n"
     ]
    }
   ],
   "source": [
    "data.info()"
   ]
  },
  {
   "cell_type": "code",
   "execution_count": 6,
   "metadata": {},
   "outputs": [
    {
     "data": {
      "text/html": [
       "<div>\n",
       "<table border=\"1\" class=\"dataframe\">\n",
       "  <thead>\n",
       "    <tr style=\"text-align: right;\">\n",
       "      <th></th>\n",
       "      <th>RHum(%)</th>\n",
       "      <th>Temp(F)</th>\n",
       "      <th>WindDirect</th>\n",
       "      <th>WindSpeed(knot)</th>\n",
       "      <th>WindGust(knot)</th>\n",
       "      <th>Rain(inch)</th>\n",
       "      <th>Radiation(Watts/m^2)</th>\n",
       "      <th>Pres(mbar)</th>\n",
       "    </tr>\n",
       "    <tr>\n",
       "      <th>datetime</th>\n",
       "      <th></th>\n",
       "      <th></th>\n",
       "      <th></th>\n",
       "      <th></th>\n",
       "      <th></th>\n",
       "      <th></th>\n",
       "      <th></th>\n",
       "      <th></th>\n",
       "    </tr>\n",
       "  </thead>\n",
       "  <tbody>\n",
       "    <tr>\n",
       "      <th>2017-07-25 00:00:40</th>\n",
       "      <td>38</td>\n",
       "      <td>79</td>\n",
       "      <td>331</td>\n",
       "      <td>4</td>\n",
       "      <td>5</td>\n",
       "      <td>0</td>\n",
       "      <td>470.67</td>\n",
       "      <td>1013.7</td>\n",
       "    </tr>\n",
       "    <tr>\n",
       "      <th>2017-07-25 00:01:40</th>\n",
       "      <td>38</td>\n",
       "      <td>79</td>\n",
       "      <td>320</td>\n",
       "      <td>5</td>\n",
       "      <td>7</td>\n",
       "      <td>0</td>\n",
       "      <td>468.22</td>\n",
       "      <td>1013.7</td>\n",
       "    </tr>\n",
       "    <tr>\n",
       "      <th>2017-07-25 00:02:40</th>\n",
       "      <td>37</td>\n",
       "      <td>79</td>\n",
       "      <td>303</td>\n",
       "      <td>7</td>\n",
       "      <td>10</td>\n",
       "      <td>0</td>\n",
       "      <td>466.10</td>\n",
       "      <td>1013.7</td>\n",
       "    </tr>\n",
       "    <tr>\n",
       "      <th>2017-07-25 00:03:40</th>\n",
       "      <td>38</td>\n",
       "      <td>79</td>\n",
       "      <td>324</td>\n",
       "      <td>7</td>\n",
       "      <td>9</td>\n",
       "      <td>0</td>\n",
       "      <td>463.89</td>\n",
       "      <td>1013.7</td>\n",
       "    </tr>\n",
       "    <tr>\n",
       "      <th>2017-07-25 00:04:40</th>\n",
       "      <td>38</td>\n",
       "      <td>78</td>\n",
       "      <td>287</td>\n",
       "      <td>6</td>\n",
       "      <td>9</td>\n",
       "      <td>0</td>\n",
       "      <td>462.71</td>\n",
       "      <td>1013.7</td>\n",
       "    </tr>\n",
       "    <tr>\n",
       "      <th>2017-07-25 00:05:40</th>\n",
       "      <td>39</td>\n",
       "      <td>78</td>\n",
       "      <td>287</td>\n",
       "      <td>10</td>\n",
       "      <td>13</td>\n",
       "      <td>0</td>\n",
       "      <td>460.80</td>\n",
       "      <td>1013.7</td>\n",
       "    </tr>\n",
       "    <tr>\n",
       "      <th>2017-07-25 00:06:40</th>\n",
       "      <td>39</td>\n",
       "      <td>78</td>\n",
       "      <td>293</td>\n",
       "      <td>8</td>\n",
       "      <td>10</td>\n",
       "      <td>0</td>\n",
       "      <td>458.88</td>\n",
       "      <td>1013.7</td>\n",
       "    </tr>\n",
       "    <tr>\n",
       "      <th>2017-07-25 00:07:40</th>\n",
       "      <td>39</td>\n",
       "      <td>78</td>\n",
       "      <td>280</td>\n",
       "      <td>9</td>\n",
       "      <td>10</td>\n",
       "      <td>0</td>\n",
       "      <td>455.73</td>\n",
       "      <td>1013.7</td>\n",
       "    </tr>\n",
       "    <tr>\n",
       "      <th>2017-07-25 00:08:40</th>\n",
       "      <td>39</td>\n",
       "      <td>78</td>\n",
       "      <td>286</td>\n",
       "      <td>11</td>\n",
       "      <td>12</td>\n",
       "      <td>0</td>\n",
       "      <td>453.44</td>\n",
       "      <td>1013.8</td>\n",
       "    </tr>\n",
       "    <tr>\n",
       "      <th>2017-07-25 00:09:40</th>\n",
       "      <td>39</td>\n",
       "      <td>78</td>\n",
       "      <td>294</td>\n",
       "      <td>6</td>\n",
       "      <td>9</td>\n",
       "      <td>0</td>\n",
       "      <td>450.92</td>\n",
       "      <td>1013.8</td>\n",
       "    </tr>\n",
       "  </tbody>\n",
       "</table>\n",
       "</div>"
      ],
      "text/plain": [
       "                     RHum(%)  Temp(F)  WindDirect  WindSpeed(knot)  \\\n",
       "datetime                                                             \n",
       "2017-07-25 00:00:40       38       79         331                4   \n",
       "2017-07-25 00:01:40       38       79         320                5   \n",
       "2017-07-25 00:02:40       37       79         303                7   \n",
       "2017-07-25 00:03:40       38       79         324                7   \n",
       "2017-07-25 00:04:40       38       78         287                6   \n",
       "2017-07-25 00:05:40       39       78         287               10   \n",
       "2017-07-25 00:06:40       39       78         293                8   \n",
       "2017-07-25 00:07:40       39       78         280                9   \n",
       "2017-07-25 00:08:40       39       78         286               11   \n",
       "2017-07-25 00:09:40       39       78         294                6   \n",
       "\n",
       "                     WindGust(knot)  Rain(inch)  Radiation(Watts/m^2)  \\\n",
       "datetime                                                                \n",
       "2017-07-25 00:00:40               5           0                470.67   \n",
       "2017-07-25 00:01:40               7           0                468.22   \n",
       "2017-07-25 00:02:40              10           0                466.10   \n",
       "2017-07-25 00:03:40               9           0                463.89   \n",
       "2017-07-25 00:04:40               9           0                462.71   \n",
       "2017-07-25 00:05:40              13           0                460.80   \n",
       "2017-07-25 00:06:40              10           0                458.88   \n",
       "2017-07-25 00:07:40              10           0                455.73   \n",
       "2017-07-25 00:08:40              12           0                453.44   \n",
       "2017-07-25 00:09:40               9           0                450.92   \n",
       "\n",
       "                     Pres(mbar)  \n",
       "datetime                         \n",
       "2017-07-25 00:00:40      1013.7  \n",
       "2017-07-25 00:01:40      1013.7  \n",
       "2017-07-25 00:02:40      1013.7  \n",
       "2017-07-25 00:03:40      1013.7  \n",
       "2017-07-25 00:04:40      1013.7  \n",
       "2017-07-25 00:05:40      1013.7  \n",
       "2017-07-25 00:06:40      1013.7  \n",
       "2017-07-25 00:07:40      1013.7  \n",
       "2017-07-25 00:08:40      1013.8  \n",
       "2017-07-25 00:09:40      1013.8  "
      ]
     },
     "execution_count": 6,
     "metadata": {},
     "output_type": "execute_result"
    }
   ],
   "source": [
    "data.sort_index().head(10) #sorts by date ascending and outputs first 10 rows"
   ]
  },
  {
   "cell_type": "code",
   "execution_count": 7,
   "metadata": {},
   "outputs": [
    {
     "data": {
      "text/plain": [
       "RHum(%)                   70.0\n",
       "Temp(F)                   79.0\n",
       "WindDirect               360.0\n",
       "WindSpeed(knot)           12.0\n",
       "WindGust(knot)            13.0\n",
       "Rain(inch)                 0.0\n",
       "Radiation(Watts/m^2)     680.5\n",
       "Pres(mbar)              1017.1\n",
       "dtype: float64"
      ]
     },
     "execution_count": 7,
     "metadata": {},
     "output_type": "execute_result"
    }
   ],
   "source": [
    "data.max()"
   ]
  },
  {
   "cell_type": "code",
   "execution_count": 8,
   "metadata": {},
   "outputs": [
    {
     "data": {
      "text/plain": [
       "RHum(%)                   37.0\n",
       "Temp(F)                   61.0\n",
       "WindDirect                 0.0\n",
       "WindSpeed(knot)            0.0\n",
       "WindGust(knot)             0.0\n",
       "Rain(inch)                 0.0\n",
       "Radiation(Watts/m^2)       0.0\n",
       "Pres(mbar)              1013.4\n",
       "dtype: float64"
      ]
     },
     "execution_count": 8,
     "metadata": {},
     "output_type": "execute_result"
    }
   ],
   "source": [
    "data.min()"
   ]
  },
  {
   "cell_type": "code",
   "execution_count": 9,
   "metadata": {},
   "outputs": [
    {
     "data": {
      "text/plain": [
       "<matplotlib.axes.AxesSubplot at 0x4247e10>"
      ]
     },
     "execution_count": 9,
     "metadata": {},
     "output_type": "execute_result"
    },
    {
     "data": {
      "image/png": "[encoded data removed]",
      "text/plain": [
       "<matplotlib.figure.Figure at 0x25953d0>"
      ]
     },
     "metadata": {},
     "output_type": "display_data"
    }
   ],
   "source": [
    "data['Temp(F)'].hist() #histogram of temperatures on this date"
   ]
  },
  {
   "cell_type": "code",
   "execution_count": 10,
   "metadata": {},
   "outputs": [
    {
     "data": {
      "text/plain": [
       "<matplotlib.axes.AxesSubplot at 0x425f450>"
      ]
     },
     "execution_count": 10,
     "metadata": {},
     "output_type": "execute_result"
    },
    {
     "data": {
      "image/png": "[encoded data removed]",
      "text/plain": [
       "<matplotlib.figure.Figure at 0x440ec90>"
      ]
     },
     "metadata": {},
     "output_type": "display_data"
    }
   ],
   "source": [
    "data['Temp(F)'].plot() #timeseries"
   ]
  },
  {
   "cell_type": "code",
   "execution_count": 11,
   "metadata": {},
   "outputs": [
    {
     "data": {
      "text/html": [
       "<div>\n",
       "<table border=\"1\" class=\"dataframe\">\n",
       "  <thead>\n",
       "    <tr style=\"text-align: right;\">\n",
       "      <th></th>\n",
       "      <th>RHum(%)</th>\n",
       "      <th>Temp(F)</th>\n",
       "      <th>WindDirect</th>\n",
       "      <th>WindSpeed(knot)</th>\n",
       "      <th>WindGust(knot)</th>\n",
       "      <th>Rain(inch)</th>\n",
       "      <th>Radiation(Watts/m^2)</th>\n",
       "      <th>Pres(mbar)</th>\n",
       "    </tr>\n",
       "    <tr>\n",
       "      <th>datetime</th>\n",
       "      <th></th>\n",
       "      <th></th>\n",
       "      <th></th>\n",
       "      <th></th>\n",
       "      <th></th>\n",
       "      <th></th>\n",
       "      <th></th>\n",
       "      <th></th>\n",
       "    </tr>\n",
       "  </thead>\n",
       "  <tbody>\n",
       "    <tr>\n",
       "      <th>2017-07-25 00:00:00</th>\n",
       "      <td>37.8</td>\n",
       "      <td>78.8</td>\n",
       "      <td>313.0</td>\n",
       "      <td>5.8</td>\n",
       "      <td>8.0</td>\n",
       "      <td>0</td>\n",
       "      <td>466.318</td>\n",
       "      <td>1013.70</td>\n",
       "    </tr>\n",
       "    <tr>\n",
       "      <th>2017-07-25 00:05:00</th>\n",
       "      <td>39.0</td>\n",
       "      <td>78.0</td>\n",
       "      <td>288.0</td>\n",
       "      <td>8.8</td>\n",
       "      <td>10.8</td>\n",
       "      <td>0</td>\n",
       "      <td>455.954</td>\n",
       "      <td>1013.74</td>\n",
       "    </tr>\n",
       "    <tr>\n",
       "      <th>2017-07-25 00:10:00</th>\n",
       "      <td>38.2</td>\n",
       "      <td>78.0</td>\n",
       "      <td>292.0</td>\n",
       "      <td>8.6</td>\n",
       "      <td>9.6</td>\n",
       "      <td>0</td>\n",
       "      <td>444.152</td>\n",
       "      <td>1013.80</td>\n",
       "    </tr>\n",
       "    <tr>\n",
       "      <th>2017-07-25 00:15:00</th>\n",
       "      <td>39.6</td>\n",
       "      <td>77.0</td>\n",
       "      <td>280.8</td>\n",
       "      <td>9.4</td>\n",
       "      <td>10.2</td>\n",
       "      <td>0</td>\n",
       "      <td>432.910</td>\n",
       "      <td>1013.74</td>\n",
       "    </tr>\n",
       "    <tr>\n",
       "      <th>2017-07-25 00:20:00</th>\n",
       "      <td>39.4</td>\n",
       "      <td>77.0</td>\n",
       "      <td>285.8</td>\n",
       "      <td>7.8</td>\n",
       "      <td>10.4</td>\n",
       "      <td>0</td>\n",
       "      <td>420.198</td>\n",
       "      <td>1013.70</td>\n",
       "    </tr>\n",
       "  </tbody>\n",
       "</table>\n",
       "</div>"
      ],
      "text/plain": [
       "                     RHum(%)  Temp(F)  WindDirect  WindSpeed(knot)  \\\n",
       "datetime                                                             \n",
       "2017-07-25 00:00:00     37.8     78.8       313.0              5.8   \n",
       "2017-07-25 00:05:00     39.0     78.0       288.0              8.8   \n",
       "2017-07-25 00:10:00     38.2     78.0       292.0              8.6   \n",
       "2017-07-25 00:15:00     39.6     77.0       280.8              9.4   \n",
       "2017-07-25 00:20:00     39.4     77.0       285.8              7.8   \n",
       "\n",
       "                     WindGust(knot)  Rain(inch)  Radiation(Watts/m^2)  \\\n",
       "datetime                                                                \n",
       "2017-07-25 00:00:00             8.0           0               466.318   \n",
       "2017-07-25 00:05:00            10.8           0               455.954   \n",
       "2017-07-25 00:10:00             9.6           0               444.152   \n",
       "2017-07-25 00:15:00            10.2           0               432.910   \n",
       "2017-07-25 00:20:00            10.4           0               420.198   \n",
       "\n",
       "                     Pres(mbar)  \n",
       "datetime                         \n",
       "2017-07-25 00:00:00     1013.70  \n",
       "2017-07-25 00:05:00     1013.74  \n",
       "2017-07-25 00:10:00     1013.80  \n",
       "2017-07-25 00:15:00     1013.74  \n",
       "2017-07-25 00:20:00     1013.70  "
      ]
     },
     "execution_count": 11,
     "metadata": {},
     "output_type": "execute_result"
    }
   ],
   "source": [
    "data.resample('5t').head() #resample ~1min data to 5min data by averaging the number of values in each 5min bin"
   ]
  },
  {
   "cell_type": "code",
   "execution_count": 12,
   "metadata": {},
   "outputs": [
    {
     "data": {
      "text/plain": [
       "<matplotlib.axes.AxesSubplot at 0x4419850>"
      ]
     },
     "execution_count": 12,
     "metadata": {},
     "output_type": "execute_result"
    },
    {
     "data": {
      "image/png": "[encoded data removed]",
      "text/plain": [
       "<matplotlib.figure.Figure at 0x4442fd0>"
      ]
     },
     "metadata": {},
     "output_type": "display_data"
    }
   ],
   "source": [
    "data['Temp(F)'].resample('5t').hist()\n"
   ]
  },
  {
   "cell_type": "code",
   "execution_count": 13,
   "metadata": {},
   "outputs": [
    {
     "data": {
      "text/plain": [
       "<matplotlib.axes.AxesSubplot at 0x4672ed0>"
      ]
     },
     "execution_count": 13,
     "metadata": {},
     "output_type": "execute_result"
    },
    {
     "data": {
      "image/png": "[encoded data removed]",
      "text/plain": [
       "<matplotlib.figure.Figure at 0x42506d0>"
      ]
     },
     "metadata": {},
     "output_type": "display_data"
    }
   ],
   "source": [
    "data['Temp(F)'].resample('5t').plot()"
   ]
  },
  {
   "cell_type": "code",
   "execution_count": null,
   "metadata": {
    "collapsed": true
   },
   "outputs": [],
   "source": []
  }
 ],
 "metadata": {
  "kernelspec": {
   "display_name": "Python 2",
   "language": "python",
   "name": "python2"
  },
  "language_info": {
   "codemirror_mode": {
    "name": "ipython",
    "version": 2
   },
   "file_extension": ".py",
   "mimetype": "text/x-python",
   "name": "python",
   "nbconvert_exporter": "python",
   "pygments_lexer": "ipython2",
   "version": "2.7.5"
  }
 },
 "nbformat": 4,
 "nbformat_minor": 2
}
